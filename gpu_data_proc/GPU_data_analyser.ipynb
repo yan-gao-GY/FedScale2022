{
 "cells": [
  {
   "cell_type": "code",
   "execution_count": null,
   "metadata": {},
   "outputs": [],
   "source": [
    "import pandas as pd\n",
    "import pathlib\n",
    "import os\n",
    "import time\n",
    "import matplotlib.pyplot as plt\n",
    "import seaborn as sns"
   ]
  },
  {
   "cell_type": "code",
   "execution_count": null,
   "metadata": {},
   "outputs": [],
   "source": [
    "experiments = ['openimage', 'google_speech', 'reddit']\n",
    "EXP_ID = 0\n",
    "path_data_folder = pathlib.Path(os.path.expandvars(f\"$FEDSCALE_HOME/benchmark/logs/monitor/{experiments[EXP_ID]}\")).absolute()\n",
    "print(path_data_folder)\n",
    "data_filenames = [i for i in sorted(path_data_folder.glob('*'))]\n",
    "data_filenames"
   ]
  },
  {
   "cell_type": "code",
   "execution_count": null,
   "metadata": {},
   "outputs": [],
   "source": [
    "df0 = pd.read_csv(data_filenames[0])\n",
    "df0 = df0[(df0[' index'] == 0) | (df0[' index'] == 5)].reset_index().sort_values(by='timestamp', ascending=True)\n",
    "df0['timestamp'] = pd.to_datetime(df0['timestamp'])\n",
    "df0['timedelta'] = df0['timestamp'].map(lambda a: a - df0['timestamp'][0]) # since they are synchronized I'm choosing this timestamp as reference\n",
    "df0['timedelta[s]'] = df0['timedelta'].astype(\"timedelta64[s]\")\n",
    "\n",
    "df1 = pd.read_csv(data_filenames[1])\n",
    "df1 = df1[df1[' index'] == 3].reset_index().sort_values(by='timestamp', ascending=True)\n",
    "df1['timestamp'] = pd.to_datetime(df1['timestamp'])\n",
    "df1['timedelta'] = df1['timestamp'].map(lambda a: a - df0['timestamp'][0]) # since they are synchronized I'm choosing this timestamp as reference\n",
    "df1['timedelta[s]'] = df1['timedelta'].astype(\"timedelta64[s]\")\n",
    "\n",
    "df2 = pd.read_csv(data_filenames[2])\n",
    "df2 = df2[df2[' index'] == 4].reset_index().sort_values(by='timestamp', ascending=True)\n",
    "df2['timestamp'] = pd.to_datetime(df2['timestamp'])\n",
    "df2['timedelta'] = df2['timestamp'].map(lambda a: a - df0['timestamp'][0]) # since they are synchronized I'm choosing this timestamp as reference\n",
    "df2['timedelta[s]'] = df2['timedelta'].astype(\"timedelta64[s]\")"
   ]
  },
  {
   "cell_type": "code",
   "execution_count": null,
   "metadata": {},
   "outputs": [],
   "source": [
    "df = pd.concat([df0, df1, df2]).reset_index()\n",
    "df = df.sort_values(by='timestamp', ascending=True)\n",
    "df"
   ]
  },
  {
   "cell_type": "code",
   "execution_count": null,
   "metadata": {},
   "outputs": [],
   "source": [
    "df[' utilization.gpu [%]'] = df[' utilization.gpu [%]'].astype(str).map(lambda a: a.replace('%', '')).astype(float)\n",
    "df[' utilization.memory [%]'] = df[' utilization.memory [%]'].astype(str).map(lambda a: a.replace('%', '')).astype(float)\n",
    "df[' memory.total [MiB]'] = df[' memory.total [MiB]'].astype(str).map(lambda a: a.replace('MiB', '')).astype(float)\n",
    "df[' memory.free [MiB]'] = df[' memory.free [MiB]'].astype(str).map(lambda a: a.replace('MiB', '')).astype(float)\n",
    "df[' memory.used [MiB]'] = df[' memory.used [MiB]'].astype(str).map(lambda a: a.replace('MiB', ''))\n",
    "df = df.dropna()\n",
    "df[' memory.used [MiB]'] = df[' memory.used [MiB]'].astype(int)\n",
    "df = df[df['timedelta']<pd.Timedelta(\"3 minutes\")]\n",
    "df"
   ]
  },
  {
   "cell_type": "code",
   "execution_count": null,
   "metadata": {},
   "outputs": [],
   "source": [
    "fig, axs = plt.subplots(1, 1, figsize=(20,10))\n",
    "sns.lineplot(x='timedelta[s]', y=' utilization.gpu [%]', ax=axs, data=df, hue=' name')\n",
    "axs.grid()\n",
    "plt.savefig(os.path.expandvars(f\"$FEDSCALE_HOME/{experiments[EXP_ID]}_util_gpu.png\"))"
   ]
  },
  {
   "cell_type": "code",
   "execution_count": null,
   "metadata": {},
   "outputs": [],
   "source": [
    "fig, axs = plt.subplots(1, 1, figsize=(20,10))\n",
    "sns.lineplot(x='timedelta[s]', y=' utilization.memory [%]', ax=axs, data=df, hue=' name')\n",
    "axs.grid()\n",
    "plt.savefig(os.path.expandvars(f\"$FEDSCALE_HOME/{experiments[EXP_ID]}_util_mem.png\"))"
   ]
  },
  {
   "cell_type": "code",
   "execution_count": null,
   "metadata": {},
   "outputs": [],
   "source": [
    "fig, axs = plt.subplots(1, 1, figsize=(20,10))\n",
    "sns.lineplot(x='timedelta[s]', y=' memory.used [MiB]', ax=axs, data=df, hue=' name')\n",
    "axs.grid()\n",
    "plt.savefig(os.path.expandvars(f\"$FEDSCALE_HOME/{experiments[EXP_ID]}_mem_used.png\"))"
   ]
  },
  {
   "cell_type": "code",
   "execution_count": null,
   "metadata": {},
   "outputs": [],
   "source": []
  }
 ],
 "metadata": {
  "kernelspec": {
   "display_name": "Python 3 (ipykernel)",
   "language": "python",
   "name": "python3"
  },
  "orig_nbformat": 4,
  "vscode": {
   "interpreter": {
    "hash": "d92a1b690641f2fcc456bfe77820a29929d907d1b4b8b7025702241ddf6ba8b9"
   }
  }
 },
 "nbformat": 4,
 "nbformat_minor": 2
}
